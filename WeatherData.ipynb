{
 "cells": [
  {
   "cell_type": "markdown",
   "metadata": {},
   "source": [
    "# Patna Weather  Data Analysis\n",
    "##  - Hamid Omar"
   ]
  },
  {
   "cell_type": "markdown",
   "metadata": {},
   "source": [
    "![title](https://www.holidify.com/images/cmsuploads/compressed/43955723280_e72f2cc6f9_b_20190116141518.jpg)"
   ]
  },
  {
   "cell_type": "markdown",
   "metadata": {},
   "source": [
    "## The SQL query used to extract the data is included.\n",
    "## The query runs without error and pulls the intended data. \n"
   ]
  },
  {
   "cell_type": "markdown",
   "metadata": {},
   "source": [
    "- SELECT * FROM city_list WHERE country = 'India';\n",
    "\n",
    "- SELECT * FROM city_data WHERE city = 'Patna';"
   ]
  },
  {
   "cell_type": "markdown",
   "metadata": {},
   "source": [
    "Once I have obtained the CSV file, I will now import python libraries in order to read the csv file as Pandas DataFrame. "
   ]
  },
  {
   "cell_type": "code",
   "execution_count": 2,
   "metadata": {},
   "outputs": [],
   "source": [
    "import pandas as pd\n",
    "import matplotlib.pyplot as plt \n",
    "from IPython.display import Image\n",
    "from IPython.core.display import HTML\n",
    "%matplotlib inline\n",
    "pd.options.mode.chained_assignment = None"
   ]
  },
  {
   "cell_type": "markdown",
   "metadata": {},
   "source": [
    "Below, I have imported the both the Datasets, I removed unnecessary columns from the Patna dataset, leaving only year,and average temperature. \n",
    "\n",
    "Looking at the shape of the dataset it is apparent that there are some missing values in the Patna dataframe, which we will have to remove in order to do further analysis.\n",
    "\n",
    "In order to remove any inconsistencies in the dataset, and to make it easier to operate on them, I have merged the two, and later dropped all rows that carried Nan values. "
   ]
  },
  {
   "cell_type": "code",
   "execution_count": 6,
   "metadata": {},
   "outputs": [],
   "source": [
    "pat_dat = pd.read_csv(\"Patna Weather Data.csv\")\n",
    "glob_dat = pd.read_csv(\"Global Weather Data.csv\")"
   ]
  },
  {
   "cell_type": "code",
   "execution_count": 7,
   "metadata": {},
   "outputs": [],
   "source": [
    "pat_dat = pat_dat.loc[:,(\"year\",\"avg_temp\")]"
   ]
  },
  {
   "cell_type": "code",
   "execution_count": 8,
   "metadata": {},
   "outputs": [
    {
     "name": "stdout",
     "output_type": "stream",
     "text": [
      "(218, 2) (266, 2)\n"
     ]
    }
   ],
   "source": [
    "print(pat_dat.shape,glob_dat.shape)"
   ]
  },
  {
   "cell_type": "code",
   "execution_count": 9,
   "metadata": {},
   "outputs": [],
   "source": [
    "new_df = pd.merge(pat_dat, glob_dat, on='year')"
   ]
  },
  {
   "cell_type": "code",
   "execution_count": 10,
   "metadata": {},
   "outputs": [],
   "source": [
    "new_df = new_df.dropna(subset=[\"avg_temp_x\",\"avg_temp_y\"],axis=0)"
   ]
  },
  {
   "cell_type": "markdown",
   "metadata": {},
   "source": [
    "## Moving averages are calculated to be used in the line chart."
   ]
  },
  {
   "cell_type": "markdown",
   "metadata": {},
   "source": [
    "I have created two new columns in the merged dataframe for each of the two moving averages(Patna and Global). \n",
    " \n",
    "I am calculating the moving average using a subset of three values at once, averaging them, and then moving the window by one element and repeating the process. This gives me SMA_x, simple moving average of Temperature in  Patna and SMA_y, simple moving average of Global Temperatures."
   ]
  },
  {
   "cell_type": "code",
   "execution_count": 11,
   "metadata": {},
   "outputs": [],
   "source": [
    "for i in range(0,new_df.shape[0]-2):\n",
    "    new_df.loc[new_df.index[i+2],'SMA_x'] = ((new_df.iloc[i,1] + new_df.iloc[i+1,1] + new_df.iloc[i+2,1])/3)"
   ]
  },
  {
   "cell_type": "code",
   "execution_count": 12,
   "metadata": {},
   "outputs": [],
   "source": [
    "for i in range(0,new_df.shape[0]-2):\n",
    "    new_df.loc[new_df.index[i+2],'SMA_y'] = ((new_df.iloc[i,2] + new_df.iloc[i+1,2] + new_df.iloc[i+2,2])/3)"
   ]
  },
  {
   "cell_type": "markdown",
   "metadata": {},
   "source": [
    "To plot the line graph, I have used matplotlib library in python.\n",
    "\n"
   ]
  },
  {
   "cell_type": "code",
   "execution_count": 13,
   "metadata": {},
   "outputs": [
    {
     "data": {
      "image/png": "[encoded data removed]",
      "text/plain": [
       "<Figure size 432x288 with 1 Axes>"
      ]
     },
     "metadata": {
      "needs_background": "light"
     },
     "output_type": "display_data"
    }
   ],
   "source": [
    "line1, = plt.plot(new_df.loc[:,\"year\"],new_df.loc[:,'SMA_x'],color=\"black\")\n",
    "line2, = plt.plot(new_df.loc[:,\"year\"],new_df.loc[:,'SMA_y'],color=\"orange\")\n",
    "plt.legend((line1,line2),(\"Global\",\"Patna\"))\n",
    "plt.xlabel(\"Years\")\n",
    "plt.ylabel(\"Temperature - Degree Celsius\")\n",
    "plt.title(\"Temperature Data Comparison - Patna to Global\")\n",
    "plt.show()"
   ]
  },
  {
   "cell_type": "markdown",
   "metadata": {},
   "source": [
    "# The student includes four observations about their provided data visualization.\n",
    "\n",
    "1. Change of temperature in Patna correspond to Global trends.\n",
    "2. Average temperature in Patna is approximately 17 degree Celsius higher as compared to the average Global Temperature.\n",
    "3. Trends in the data suggests that the average temperature is increasing slowly but surely over the years.\n",
    "4. There seems no prominent fluctutation in the Data(except one which is attributed to missing values)."
   ]
  },
  {
   "cell_type": "markdown",
   "metadata": {},
   "source": [
    "# Key Consideration for Visualisation\n",
    "\n",
    "1. Setting years as x-axis since it is a time series.\n",
    "2. Setting Temperature as y-axis since it is the attribute of interest.\n",
    "3. Coloring and labeling the plot lines for enhanced readability.\n",
    "4. Labelling each axis as well as adding Title to graph to enhance readablility. "
   ]
  },
  {
   "cell_type": "markdown",
   "metadata": {},
   "source": [
    "# Final Conclusion\n",
    "\n",
    "Temperatures are rising over time. "
   ]
  }
 ],
 "metadata": {
  "kernelspec": {
   "display_name": "Python 3",
   "language": "python",
   "name": "python3"
  },
  "language_info": {
   "codemirror_mode": {
    "name": "ipython",
    "version": 3
   },
   "file_extension": ".py",
   "mimetype": "text/x-python",
   "name": "python",
   "nbconvert_exporter": "python",
   "pygments_lexer": "ipython3",
   "version": "3.7.3"
  }
 },
 "nbformat": 4,
 "nbformat_minor": 2
}
